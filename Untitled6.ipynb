{
  "nbformat": 4,
  "nbformat_minor": 0,
  "metadata": {
    "colab": {
      "provenance": [],
      "authorship_tag": "ABX9TyM1IJZ1P6Phu7AYqISH3gTb",
      "include_colab_link": true
    },
    "kernelspec": {
      "name": "python3",
      "display_name": "Python 3"
    },
    "language_info": {
      "name": "python"
    }
  },
  "cells": [
    {
      "cell_type": "markdown",
      "metadata": {
        "id": "view-in-github",
        "colab_type": "text"
      },
      "source": [
        "<a href=\"https://colab.research.google.com/github/kir1903/-2/blob/main/Untitled6.ipynb\" target=\"_parent\"><img src=\"https://colab.research.google.com/assets/colab-badge.svg\" alt=\"Open In Colab\"/></a>"
      ]
    },
    {
      "cell_type": "code",
      "execution_count": 9,
      "metadata": {
        "colab": {
          "base_uri": "https://localhost:8080/"
        },
        "id": "3PgsPzYPqWnH",
        "outputId": "cbff1067-fe6a-4ad8-8b59-352d5707c351"
      },
      "outputs": [
        {
          "output_type": "stream",
          "name": "stdout",
          "text": [
            "Задание 1: Поиск средних букв\n",
            "========================================\n",
            "word = 'test' \tРезультат: es\n",
            "word = 'testing' \tРезультат: t\n",
            "word = 'hello' \tРезультат: l\n",
            "word = 'world' \tРезультат: r\n",
            "word = 'python' \tРезультат: th\n"
          ]
        }
      ],
      "source": [
        "def find_middle_letters(word):\n",
        "    \"\"\"\n",
        "    Функция для нахождения средней буквы/букв в слове\n",
        "    \"\"\"\n",
        "    length = len(word)\n",
        "\n",
        "    if length == 0:\n",
        "        return \"Слово пустое\"\n",
        "\n",
        "    middle_index = length // 2\n",
        "\n",
        "    if length % 2 == 1:  # нечетное количество букв\n",
        "        return word[middle_index]\n",
        "    else:  # четное количество букв\n",
        "        return word[middle_index - 1:middle_index + 1]\n",
        "\n",
        "# Тестирование функции\n",
        "test_words = ['test', 'testing', 'hello', 'world', 'python']\n",
        "\n",
        "print(\"Задание 1: Поиск средних букв\")\n",
        "print(\"=\" * 40)\n",
        "\n",
        "for word in test_words:\n",
        "    result = find_middle_letters(word)\n",
        "    print(f\"word = '{word}' \\tРезультат: {result}\")"
      ]
    },
    {
      "cell_type": "code",
      "source": [
        "def create_dating_pairs(boys, girls):\n",
        "    \"\"\"\n",
        "    Функция для создания идеальных пар из отсортированных списков\n",
        "    \"\"\"\n",
        "    # Проверяем, равны ли длины списков\n",
        "    if len(boys) != len(girls):\n",
        "        return \"Внимание, кто-то может остаться без пары!\"\n",
        "\n",
        "    # Сортируем оба списка по алфавиту\n",
        "    sorted_boys = sorted(boys)\n",
        "    sorted_girls = sorted(girls)\n",
        "\n",
        "    # Создаем пары\n",
        "    pairs = []\n",
        "    for i in range(len(sorted_boys)):\n",
        "        pairs.append(f\"{sorted_boys[i]} и {sorted_girls[i]}\")\n",
        "\n",
        "    return pairs\n",
        "\n",
        "# Тестирование функции\n",
        "print(\"\\nЗадание 2: Dating-сервис MVP\")\n",
        "print(\"=\" * 50)\n",
        "\n",
        "# Пример 1: Равное количество участников\n",
        "boys1 = ['Peter', 'Alex', 'John', 'Arthur', 'Richard']\n",
        "girls1 = ['Kate', 'Liza', 'Kira', 'Emma', 'Trisha']\n",
        "\n",
        "print(\"Пример 1:\")\n",
        "print(f\"boys = {boys1}\")\n",
        "print(f\"girls = {girls1}\")\n",
        "print(\"\\nРезультат:\")\n",
        "\n",
        "result1 = create_dating_pairs(boys1, girls1)\n",
        "if isinstance(result1, list):\n",
        "    print(\"Идеальные пары:\")\n",
        "    for pair in result1:\n",
        "        print(pair)\n",
        "else:\n",
        "    print(result1)\n",
        "\n",
        "# Пример 2: Неравное количество участников\n",
        "boys2 = ['Peter', 'Alex', 'John', 'Arthur', 'Richard', 'Michael']\n",
        "girls2 = ['Kate', 'Liza', 'Kira', 'Emma', 'Trisha']\n",
        "\n",
        "print(\"\\n\" + \"-\" * 50)\n",
        "print(\"Пример 2:\")\n",
        "print(f\"boys = {boys2}\")\n",
        "print(f\"girls = {girls2}\")\n",
        "print(\"\\nРезультат:\")\n",
        "\n",
        "result2 = create_dating_pairs(boys2, girls2)\n",
        "if isinstance(result2, list):\n",
        "    print(\"Идеальные пары:\")\n",
        "    for pair in result2:\n",
        "        print(pair)\n",
        "else:\n",
        "    print(result2)\n"
      ],
      "metadata": {
        "colab": {
          "base_uri": "https://localhost:8080/"
        },
        "id": "fUmM462Gq-Qr",
        "outputId": "abd6ef33-9903-4896-fbf9-b68b9a9d769e"
      },
      "execution_count": 10,
      "outputs": [
        {
          "output_type": "stream",
          "name": "stdout",
          "text": [
            "\n",
            "Задание 2: Dating-сервис MVP\n",
            "==================================================\n",
            "Пример 1:\n",
            "boys = ['Peter', 'Alex', 'John', 'Arthur', 'Richard']\n",
            "girls = ['Kate', 'Liza', 'Kira', 'Emma', 'Trisha']\n",
            "\n",
            "Результат:\n",
            "Идеальные пары:\n",
            "Alex и Emma\n",
            "Arthur и Kate\n",
            "John и Kira\n",
            "Peter и Liza\n",
            "Richard и Trisha\n",
            "\n",
            "--------------------------------------------------\n",
            "Пример 2:\n",
            "boys = ['Peter', 'Alex', 'John', 'Arthur', 'Richard', 'Michael']\n",
            "girls = ['Kate', 'Liza', 'Kira', 'Emma', 'Trisha']\n",
            "\n",
            "Результат:\n",
            "Внимание, кто-то может остаться без пары!\n"
          ]
        }
      ]
    }
  ]
}